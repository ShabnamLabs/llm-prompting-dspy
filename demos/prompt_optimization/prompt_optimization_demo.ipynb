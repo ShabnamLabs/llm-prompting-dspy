{
 "cells": [
  {
   "cell_type": "markdown",
   "id": "21f454a5",
   "metadata": {},
   "source": [
    "# Prompt Optimization Demo with DSPy\n",
    "\n",
    "This notebook demonstrates how to use DSPy and MIPROv2 for optimizing prompts in a healthcare chatbot scenario.\n",
    "\n",
    "## Steps\n",
    "\n",
    "1. **Setup**: Configure API and DSPy.\n",
    "2. **Load Data**: Load training and validation examples.\n",
    "3. **Compile Pipeline**: Build and optimize a DSPy pipeline using MIPROv2.\n",
    "4. **Inference**: Query the pipeline with test questions.\n",
    "5. **Inspect Prompt**: View the optimized prompt and selected few-shot examples."
   ]
  },
  {
   "cell_type": "code",
   "execution_count": 6,
   "id": "dac0ac3f",
   "metadata": {},
   "outputs": [],
   "source": [
    "# Setup and imports\n",
    "import os\n",
    "import dspy\n",
    "from src.prompt_optimization_pipeline import load_examples, healthcare_metric, HealthcareResponse"
   ]
  },
  {
   "cell_type": "code",
   "execution_count": null,
   "id": "e60db314",
   "metadata": {},
   "outputs": [],
   "source": [
    "\n",
    "os.environ[\"OPENAI_API_KEY\"] = \"OPENAI_API_KEY\"  # Replace with your actual OpenAI API key\n",
    "dspy.settings.configure(lm=dspy.LM(\"openai/gpt-4o-mini\"))"
   ]
  },
  {
   "cell_type": "markdown",
   "id": "57091a58",
   "metadata": {},
   "source": [
    "## Optimize a prompt for a healthcare response task"
   ]
  },
  {
   "cell_type": "code",
   "execution_count": 8,
   "id": "e657bda2",
   "metadata": {},
   "outputs": [
    {
     "name": "stderr",
     "output_type": "stream",
     "text": [
      "2025/08/18 19:14:08 INFO dspy.teleprompt.mipro_optimizer_v2: \n",
      "RUNNING WITH THE FOLLOWING LIGHT AUTO RUN SETTINGS:\n",
      "num_trials: 10\n",
      "minibatch: False\n",
      "num_fewshot_candidates: 6\n",
      "num_instruct_candidates: 3\n",
      "valset size: 10\n",
      "\n",
      "2025/08/18 19:14:08 INFO dspy.teleprompt.mipro_optimizer_v2: \n",
      "==> STEP 1: BOOTSTRAP FEWSHOT EXAMPLES <==\n",
      "2025/08/18 19:14:08 INFO dspy.teleprompt.mipro_optimizer_v2: These will be used as few-shot example candidates for our program and for creating instructions.\n",
      "\n",
      "2025/08/18 19:14:08 INFO dspy.teleprompt.mipro_optimizer_v2: Bootstrapping N=6 sets of demonstrations...\n"
     ]
    },
    {
     "name": "stdout",
     "output_type": "stream",
     "text": [
      "Bootstrapping set 1/6\n",
      "Bootstrapping set 2/6\n",
      "Bootstrapping set 3/6\n"
     ]
    },
    {
     "name": "stderr",
     "output_type": "stream",
     "text": [
      " 20%|██        | 2/10 [00:05<00:21,  2.68s/it]\n"
     ]
    },
    {
     "name": "stdout",
     "output_type": "stream",
     "text": [
      "Bootstrapped 2 full traces after 2 examples for up to 1 rounds, amounting to 2 attempts.\n",
      "Bootstrapping set 4/6\n"
     ]
    },
    {
     "name": "stderr",
     "output_type": "stream",
     "text": [
      " 10%|█         | 1/10 [00:04<00:41,  4.57s/it]\n"
     ]
    },
    {
     "name": "stdout",
     "output_type": "stream",
     "text": [
      "Bootstrapped 1 full traces after 1 examples for up to 1 rounds, amounting to 1 attempts.\n",
      "Bootstrapping set 5/6\n"
     ]
    },
    {
     "name": "stderr",
     "output_type": "stream",
     "text": [
      " 10%|█         | 1/10 [00:03<00:29,  3.24s/it]\n"
     ]
    },
    {
     "name": "stdout",
     "output_type": "stream",
     "text": [
      "Bootstrapped 1 full traces after 1 examples for up to 1 rounds, amounting to 1 attempts.\n",
      "Bootstrapping set 6/6\n"
     ]
    },
    {
     "name": "stderr",
     "output_type": "stream",
     "text": [
      " 20%|██        | 2/10 [00:25<01:43, 12.96s/it]\n",
      "2025/08/18 19:14:47 INFO dspy.teleprompt.mipro_optimizer_v2: \n",
      "==> STEP 2: PROPOSE INSTRUCTION CANDIDATES <==\n",
      "2025/08/18 19:14:47 INFO dspy.teleprompt.mipro_optimizer_v2: We will use the few-shot examples from the previous step, a generated dataset summary, a summary of the program code, and a randomly selected prompting tip to propose instructions.\n",
      "2025/08/18 19:14:47 INFO dspy.teleprompt.mipro_optimizer_v2: \n",
      "Proposing N=3 instructions...\n",
      "\n"
     ]
    },
    {
     "name": "stdout",
     "output_type": "stream",
     "text": [
      "Bootstrapped 2 full traces after 2 examples for up to 1 rounds, amounting to 2 attempts.\n",
      "SOURCE CODE: \n",
      "\n",
      "\n",
      "DATA SUMMARY: The observations highlight a consistent trend of cautious, non-diagnostic responses to symptom descriptions, emphasizing the necessity of seeking professional medical assistance for serious symptoms. Responses prioritize patient safety with disclaimers to reassert the importance of consulting healthcare providers and maintaining a supportive tone. Overall, the focus remains on directing individuals towards appropriate care in critical situations.\n",
      "Using a randomly generated configuration for our grounded proposer.\n",
      "Selected tip: simple\n",
      "PROGRAM DESCRIPTION: The program appears to be designed to facilitate the execution of tasks that require natural language understanding and generation through the use of language models. It likely involves feeding input data into a language model, processing the output, and providing results in a structured manner. The absence of specific task examples suggests that the program is versatile and can be adapted to various applications such as text summarization, question answering, or content generation, relying on the capabilities of the underlying language model to interpret and respond to user queries effectively.\n",
      "task_demos No task demos provided.\n",
      "\n",
      "\n",
      "\n",
      "\n",
      "\u001b[34m[2025-08-18T19:14:48.553891]\u001b[0m\n",
      "\n",
      "\u001b[31mSystem message:\u001b[0m\n",
      "\n",
      "Your input fields are:\n",
      "1. `dataset_description` (str): A description of the dataset that we are using.\n",
      "2. `program_code` (str): Language model program designed to solve a particular task.\n",
      "3. `program_description` (str): Summary of the task the program is designed to solve, and how it goes about solving it.\n",
      "4. `module` (str): The module to create an instruction for.\n",
      "5. `module_description` (str): Description of the module to create an instruction for.\n",
      "6. `task_demos` (str): Example inputs/outputs of our module.\n",
      "7. `basic_instruction` (str): Basic instruction.\n",
      "8. `tip` (str): A suggestion for how to go about generating the new instruction.\n",
      "Your output fields are:\n",
      "1. `proposed_instruction` (str): Propose an instruction that will be used to prompt a Language Model to perform this task.\n",
      "All interactions will be structured in the following way, with the appropriate values filled in.\n",
      "\n",
      "[[ ## dataset_description ## ]]\n",
      "{dataset_description}\n",
      "\n",
      "[[ ## program_code ## ]]\n",
      "{program_code}\n",
      "\n",
      "[[ ## program_description ## ]]\n",
      "{program_description}\n",
      "\n",
      "[[ ## module ## ]]\n",
      "{module}\n",
      "\n",
      "[[ ## module_description ## ]]\n",
      "{module_description}\n",
      "\n",
      "[[ ## task_demos ## ]]\n",
      "{task_demos}\n",
      "\n",
      "[[ ## basic_instruction ## ]]\n",
      "{basic_instruction}\n",
      "\n",
      "[[ ## tip ## ]]\n",
      "{tip}\n",
      "\n",
      "[[ ## proposed_instruction ## ]]\n",
      "{proposed_instruction}\n",
      "\n",
      "[[ ## completed ## ]]\n",
      "In adhering to this structure, your objective is: \n",
      "        Use the information below to learn about a task that we are trying to solve using calls to an LM, then generate a new instruction that will be used to prompt a Language Model to better solve the task.\n",
      "\n",
      "\n",
      "\u001b[31mUser message:\u001b[0m\n",
      "\n",
      "[[ ## dataset_description ## ]]\n",
      "The observations highlight a consistent trend of cautious, non-diagnostic responses to symptom descriptions, emphasizing the necessity of seeking professional medical assistance for serious symptoms. Responses prioritize patient safety with disclaimers to reassert the importance of consulting healthcare providers and maintaining a supportive tone. Overall, the focus remains on directing individuals towards appropriate care in critical situations.\n",
      "\n",
      "[[ ## program_code ## ]]\n",
      "\n",
      "\n",
      "\n",
      "\n",
      "[[ ## program_description ## ]]\n",
      "The program appears to be designed to facilitate the execution of tasks that require natural language understanding and generation through the use of language models. It likely involves feeding input data into a language model, processing the output, and providing results in a structured manner. The absence of specific task examples suggests that the program is versatile and can be adapted to various applications such as text summarization, question answering, or content generation, relying on the capabilities of the underlying language model to interpret and respond to user queries effectively.\n",
      "\n",
      "[[ ## module ## ]]\n",
      "Predict(symptom_description) -> safe_response\n",
      "\n",
      "[[ ## module_description ## ]]\n",
      "The `Predict(symptom_description)` module is responsible for analyzing the input symptom description provided by the user and generating a safe response based on the insights derived from the language model. This module plays a critical role in ensuring that the output is not only contextually relevant but also adheres to safety protocols, avoiding any harmful or misleading information. By leveraging the language model's understanding of medical terminology and symptomatology, this module helps users receive accurate and responsible responses, thereby enhancing the overall effectiveness and reliability of the program in addressing health-related inquiries.\n",
      "\n",
      "[[ ## task_demos ## ]]\n",
      "No task demos provided.\n",
      "\n",
      "[[ ## basic_instruction ## ]]\n",
      "Given a user health-related input, provide a safe and helpful response.\n",
      "\n",
      "[[ ## tip ## ]]\n",
      "Keep the instruction clear and concise.\n",
      "\n",
      "Respond with the corresponding output fields, starting with the field `[[ ## proposed_instruction ## ]]`, and then ending with the marker for `[[ ## completed ## ]]`.\n",
      "\n",
      "\n",
      "\u001b[31mResponse:\u001b[0m\n",
      "\n",
      "\u001b[32m[[ ## proposed_instruction ## ]]\n",
      "When given a description of symptoms from a user, generate a safe and supportive response that emphasizes the importance of consulting a healthcare professional while providing general information about the symptoms.\n",
      "\n",
      "[[ ## completed ## ]]\u001b[0m\n",
      "\n",
      "\n",
      "\n",
      "\n",
      "\n",
      "PROPOSED INSTRUCTION: When given a description of symptoms from a user, generate a safe and supportive response that emphasizes the importance of consulting a healthcare professional while providing general information about the symptoms.\n",
      "Using a randomly generated configuration for our grounded proposer.\n",
      "Selected tip: creative\n",
      "PROGRAM DESCRIPTION: The program is designed to assist users by providing responses to health-related symptom inquiries. It evaluates the descriptions of symptoms provided by users and generates safe and appropriate responses. The program emphasizes the importance of consulting healthcare professionals for serious symptoms and avoids giving specific medical advice or recommendations for medication. Instead, it guides users towards seeking professional help, ensuring safety and proper care.\n",
      "task_demos Symptom Description: I have chest pain and shortness of breath, what should I do?\n",
      "Safe Response: Chest pain and shortness of breath can be serious symptoms. Please call emergency services or go to the nearest hospital immediately.\n",
      "\n",
      "Symptom Description: I have a bad headache for 3 days, should I be worried?\n",
      "Safe Response: While I can't provide medical advice, a headache lasting three days can be concerning. It's best to consult a healthcare professional to discuss your symptoms and determine the appropriate course of action.\n",
      "\n",
      "Symptom Description: I feel very anxious lately, can you give me medication advice?\n",
      "Safe Response: I'm not able to provide medication advice. It's important to talk to a healthcare professional about your anxiety, as they can recommend appropriate treatment options.\n",
      "\n",
      "\n",
      "\n",
      "\n",
      "\n",
      "\n",
      "\u001b[34m[2025-08-18T19:14:54.619255]\u001b[0m\n",
      "\n",
      "\u001b[31mSystem message:\u001b[0m\n",
      "\n",
      "Your input fields are:\n",
      "1. `dataset_description` (str): A description of the dataset that we are using.\n",
      "2. `program_code` (str): Language model program designed to solve a particular task.\n",
      "3. `program_description` (str): Summary of the task the program is designed to solve, and how it goes about solving it.\n",
      "4. `module` (str): The module to create an instruction for.\n",
      "5. `module_description` (str): Description of the module to create an instruction for.\n",
      "6. `task_demos` (str): Example inputs/outputs of our module.\n",
      "7. `basic_instruction` (str): Basic instruction.\n",
      "8. `tip` (str): A suggestion for how to go about generating the new instruction.\n",
      "Your output fields are:\n",
      "1. `proposed_instruction` (str): Propose an instruction that will be used to prompt a Language Model to perform this task.\n",
      "All interactions will be structured in the following way, with the appropriate values filled in.\n",
      "\n",
      "[[ ## dataset_description ## ]]\n",
      "{dataset_description}\n",
      "\n",
      "[[ ## program_code ## ]]\n",
      "{program_code}\n",
      "\n",
      "[[ ## program_description ## ]]\n",
      "{program_description}\n",
      "\n",
      "[[ ## module ## ]]\n",
      "{module}\n",
      "\n",
      "[[ ## module_description ## ]]\n",
      "{module_description}\n",
      "\n",
      "[[ ## task_demos ## ]]\n",
      "{task_demos}\n",
      "\n",
      "[[ ## basic_instruction ## ]]\n",
      "{basic_instruction}\n",
      "\n",
      "[[ ## tip ## ]]\n",
      "{tip}\n",
      "\n",
      "[[ ## proposed_instruction ## ]]\n",
      "{proposed_instruction}\n",
      "\n",
      "[[ ## completed ## ]]\n",
      "In adhering to this structure, your objective is: \n",
      "        Use the information below to learn about a task that we are trying to solve using calls to an LM, then generate a new instruction that will be used to prompt a Language Model to better solve the task.\n",
      "\n",
      "\n",
      "\u001b[31mUser message:\u001b[0m\n",
      "\n",
      "[[ ## dataset_description ## ]]\n",
      "The observations highlight a consistent trend of cautious, non-diagnostic responses to symptom descriptions, emphasizing the necessity of seeking professional medical assistance for serious symptoms. Responses prioritize patient safety with disclaimers to reassert the importance of consulting healthcare providers and maintaining a supportive tone. Overall, the focus remains on directing individuals towards appropriate care in critical situations.\n",
      "\n",
      "[[ ## program_code ## ]]\n",
      "\n",
      "\n",
      "\n",
      "\n",
      "[[ ## program_description ## ]]\n",
      "The program is designed to assist users by providing responses to health-related symptom inquiries. It evaluates the descriptions of symptoms provided by users and generates safe and appropriate responses. The program emphasizes the importance of consulting healthcare professionals for serious symptoms and avoids giving specific medical advice or recommendations for medication. Instead, it guides users towards seeking professional help, ensuring safety and proper care.\n",
      "\n",
      "[[ ## module ## ]]\n",
      "Predict(symptom_description) -> safe_response\n",
      "\n",
      "[[ ## module_description ## ]]\n",
      "The `Predict(symptom_description) -> safe_response` module is responsible for analyzing the user's input regarding their health symptoms and generating a safe response. This module processes the symptom descriptions and utilizes predefined criteria to determine the appropriate response, prioritizing user safety by recommending consultation with healthcare professionals for serious conditions. It ensures that the responses provided are both sensitive to the user's concerns and aligned with best practices in health communication.\n",
      "\n",
      "[[ ## task_demos ## ]]\n",
      "Symptom Description: I have chest pain and shortness of breath, what should I do?\n",
      "Safe Response: Chest pain and shortness of breath can be serious symptoms. Please call emergency services or go to the nearest hospital immediately.\n",
      "\n",
      "Symptom Description: I have a bad headache for 3 days, should I be worried?\n",
      "Safe Response: While I can't provide medical advice, a headache lasting three days can be concerning. It's best to consult a healthcare professional to discuss your symptoms and determine the appropriate course of action.\n",
      "\n",
      "Symptom Description: I feel very anxious lately, can you give me medication advice?\n",
      "Safe Response: I'm not able to provide medication advice. It's important to talk to a healthcare professional about your anxiety, as they can recommend appropriate treatment options.\n",
      "\n",
      "\n",
      "\n",
      "[[ ## basic_instruction ## ]]\n",
      "Given a user health-related input, provide a safe and helpful response.\n",
      "\n",
      "[[ ## tip ## ]]\n",
      "Don't be afraid to be creative when creating the new instruction!\n",
      "\n",
      "Respond with the corresponding output fields, starting with the field `[[ ## proposed_instruction ## ]]`, and then ending with the marker for `[[ ## completed ## ]]`.\n",
      "\n",
      "\n",
      "\u001b[31mResponse:\u001b[0m\n",
      "\n",
      "\u001b[32m[[ ## proposed_instruction ## ]]\n",
      "When a user describes their health symptoms, respond with a safe and supportive message that emphasizes the importance of seeking professional medical help for serious concerns. Ensure that the response is empathetic and informative, guiding the user towards appropriate care without giving specific medical advice.\n",
      "\n",
      "[[ ## completed ## ]]\u001b[0m\n",
      "\n",
      "\n",
      "\n",
      "\n",
      "\n",
      "PROPOSED INSTRUCTION: When a user describes their health symptoms, respond with a safe and supportive message that emphasizes the importance of seeking professional medical help for serious concerns. Ensure that the response is empathetic and informative, guiding the user towards appropriate care without giving specific medical advice.\n",
      "Using a randomly generated configuration for our grounded proposer.\n",
      "Selected tip: none\n",
      "PROGRAM DESCRIPTION: The program appears to be designed to provide safe and appropriate responses to users who describe various health-related symptoms or concerns. It evaluates the symptoms presented and generates responses that prioritize user safety by advising them to seek professional medical help when necessary. The program avoids giving direct medical advice or medication recommendations, instead directing users to consult healthcare professionals for proper evaluation and treatment. This approach helps ensure that individuals receive the correct guidance for potentially serious health issues.\n",
      "task_demos Symptom Description: I have chest pain and shortness of breath, what should I do?\n",
      "Safe Response: Chest pain and shortness of breath can be serious symptoms. Please call emergency services or go to the nearest hospital immediately.\n",
      "\n",
      "Symptom Description: I have a bad headache for 3 days, should I be worried?\n",
      "Safe Response: While I can't provide medical advice, a headache lasting three days can be concerning. It's best to consult a healthcare professional to discuss your symptoms and determine the appropriate course of action.\n",
      "\n",
      "Symptom Description: I feel very anxious lately, can you give me medication advice?\n",
      "Safe Response: I'm not able to provide medication advice. It's important to talk to a healthcare professional about your anxiety, as they can recommend appropriate treatment options.\n",
      "\n",
      "\n"
     ]
    },
    {
     "name": "stderr",
     "output_type": "stream",
     "text": [
      "2025/08/18 19:15:00 INFO dspy.teleprompt.mipro_optimizer_v2: Proposed Instructions for Predictor 0:\n",
      "\n",
      "2025/08/18 19:15:00 INFO dspy.teleprompt.mipro_optimizer_v2: 0: Given a user health-related input, provide a safe and helpful response.\n",
      "\n",
      "2025/08/18 19:15:00 INFO dspy.teleprompt.mipro_optimizer_v2: 1: When a user describes their health symptoms, respond with a safe and supportive message that emphasizes the importance of seeking professional medical help for serious concerns. Ensure that the response is empathetic and informative, guiding the user towards appropriate care without giving specific medical advice.\n",
      "\n",
      "2025/08/18 19:15:00 INFO dspy.teleprompt.mipro_optimizer_v2: 2: Analyze the user's health-related symptom description and generate a safe response that prioritizes their safety by advising them to seek professional medical assistance if necessary. Ensure the response does not include direct medical advice or treatment recommendations.\n",
      "\n",
      "2025/08/18 19:15:00 INFO dspy.teleprompt.mipro_optimizer_v2: \n",
      "\n",
      "2025/08/18 19:15:01 INFO dspy.teleprompt.mipro_optimizer_v2: ==> STEP 3: FINDING OPTIMAL PROMPT PARAMETERS <==\n",
      "2025/08/18 19:15:01 INFO dspy.teleprompt.mipro_optimizer_v2: We will evaluate the program over a series of trials with different combinations of instructions and few-shot examples to find the optimal combination using Bayesian Optimization.\n",
      "\n",
      "2025/08/18 19:15:01 INFO dspy.teleprompt.mipro_optimizer_v2: == Trial 1 / 10 - Full Evaluation of Default Program ==\n"
     ]
    },
    {
     "name": "stdout",
     "output_type": "stream",
     "text": [
      "\n",
      "\n",
      "\n",
      "\n",
      "\u001b[34m[2025-08-18T19:15:00.957275]\u001b[0m\n",
      "\n",
      "\u001b[31mSystem message:\u001b[0m\n",
      "\n",
      "Your input fields are:\n",
      "1. `dataset_description` (str): A description of the dataset that we are using.\n",
      "2. `program_code` (str): Language model program designed to solve a particular task.\n",
      "3. `program_description` (str): Summary of the task the program is designed to solve, and how it goes about solving it.\n",
      "4. `module` (str): The module to create an instruction for.\n",
      "5. `module_description` (str): Description of the module to create an instruction for.\n",
      "6. `task_demos` (str): Example inputs/outputs of our module.\n",
      "7. `basic_instruction` (str): Basic instruction.\n",
      "Your output fields are:\n",
      "1. `proposed_instruction` (str): Propose an instruction that will be used to prompt a Language Model to perform this task.\n",
      "All interactions will be structured in the following way, with the appropriate values filled in.\n",
      "\n",
      "[[ ## dataset_description ## ]]\n",
      "{dataset_description}\n",
      "\n",
      "[[ ## program_code ## ]]\n",
      "{program_code}\n",
      "\n",
      "[[ ## program_description ## ]]\n",
      "{program_description}\n",
      "\n",
      "[[ ## module ## ]]\n",
      "{module}\n",
      "\n",
      "[[ ## module_description ## ]]\n",
      "{module_description}\n",
      "\n",
      "[[ ## task_demos ## ]]\n",
      "{task_demos}\n",
      "\n",
      "[[ ## basic_instruction ## ]]\n",
      "{basic_instruction}\n",
      "\n",
      "[[ ## proposed_instruction ## ]]\n",
      "{proposed_instruction}\n",
      "\n",
      "[[ ## completed ## ]]\n",
      "In adhering to this structure, your objective is: \n",
      "        Use the information below to learn about a task that we are trying to solve using calls to an LM, then generate a new instruction that will be used to prompt a Language Model to better solve the task.\n",
      "\n",
      "\n",
      "\u001b[31mUser message:\u001b[0m\n",
      "\n",
      "[[ ## dataset_description ## ]]\n",
      "The observations highlight a consistent trend of cautious, non-diagnostic responses to symptom descriptions, emphasizing the necessity of seeking professional medical assistance for serious symptoms. Responses prioritize patient safety with disclaimers to reassert the importance of consulting healthcare providers and maintaining a supportive tone. Overall, the focus remains on directing individuals towards appropriate care in critical situations.\n",
      "\n",
      "[[ ## program_code ## ]]\n",
      "\n",
      "\n",
      "\n",
      "\n",
      "[[ ## program_description ## ]]\n",
      "The program appears to be designed to provide safe and appropriate responses to users who describe various health-related symptoms or concerns. It evaluates the symptoms presented and generates responses that prioritize user safety by advising them to seek professional medical help when necessary. The program avoids giving direct medical advice or medication recommendations, instead directing users to consult healthcare professionals for proper evaluation and treatment. This approach helps ensure that individuals receive the correct guidance for potentially serious health issues.\n",
      "\n",
      "[[ ## module ## ]]\n",
      "Predict(symptom_description) -> safe_response\n",
      "\n",
      "[[ ## module_description ## ]]\n",
      "The `Predict(symptom_description) -> safe_response` module is responsible for analyzing the user's input regarding their health symptoms and generating a safe, appropriate response. This module interprets the symptom description provided by the user and assesses the severity of the reported symptoms. It ensures that the response aligns with the program's safety protocols by advising users to seek professional medical assistance when necessary, rather than providing specific medical advice or treatment recommendations. This module plays a critical role in prioritizing user safety and ensuring that individuals receive guidance that encourages them to consult qualified healthcare professionals.\n",
      "\n",
      "[[ ## task_demos ## ]]\n",
      "Symptom Description: I have chest pain and shortness of breath, what should I do?\n",
      "Safe Response: Chest pain and shortness of breath can be serious symptoms. Please call emergency services or go to the nearest hospital immediately.\n",
      "\n",
      "Symptom Description: I have a bad headache for 3 days, should I be worried?\n",
      "Safe Response: While I can't provide medical advice, a headache lasting three days can be concerning. It's best to consult a healthcare professional to discuss your symptoms and determine the appropriate course of action.\n",
      "\n",
      "Symptom Description: I feel very anxious lately, can you give me medication advice?\n",
      "Safe Response: I'm not able to provide medication advice. It's important to talk to a healthcare professional about your anxiety, as they can recommend appropriate treatment options.\n",
      "\n",
      "\n",
      "\n",
      "[[ ## basic_instruction ## ]]\n",
      "Given a user health-related input, provide a safe and helpful response.\n",
      "\n",
      "Respond with the corresponding output fields, starting with the field `[[ ## proposed_instruction ## ]]`, and then ending with the marker for `[[ ## completed ## ]]`.\n",
      "\n",
      "\n",
      "\u001b[31mResponse:\u001b[0m\n",
      "\n",
      "\u001b[32m[[ ## proposed_instruction ## ]]\n",
      "Analyze the user's health-related symptom description and generate a safe response that prioritizes their safety by advising them to seek professional medical assistance if necessary. Ensure the response does not include direct medical advice or treatment recommendations.\n",
      "\n",
      "[[ ## completed ## ]]\u001b[0m\n",
      "\n",
      "\n",
      "\n",
      "\n",
      "\n",
      "PROPOSED INSTRUCTION: Analyze the user's health-related symptom description and generate a safe response that prioritizes their safety by advising them to seek professional medical assistance if necessary. Ensure the response does not include direct medical advice or treatment recommendations.\n",
      "Average Metric: 9.00 / 10 (90.0%): 100%|██████████| 10/10 [00:07<00:00,  1.26it/s]"
     ]
    },
    {
     "name": "stderr",
     "output_type": "stream",
     "text": [
      "2025/08/18 19:15:09 INFO dspy.evaluate.evaluate: Average Metric: 9.0 / 10 (90.0%)\n",
      "2025/08/18 19:15:09 INFO dspy.teleprompt.mipro_optimizer_v2: Default program score: 90.0\n",
      "\n",
      "2025/08/18 19:15:09 INFO dspy.teleprompt.mipro_optimizer_v2: ===== Trial 2 / 10 =====\n",
      "2025/08/18 19:15:09 INFO dspy.teleprompt.mipro_optimizer_v2: Evaluating the following candidate program...\n",
      "\n"
     ]
    },
    {
     "name": "stdout",
     "output_type": "stream",
     "text": [
      "\n",
      "Predictor 0\n",
      "i: When a user describes their health symptoms, respond with a safe and supportive message that emphasizes the importance of seeking professional medical help for serious concerns. Ensure that the response is empathetic and informative, guiding the user towards appropriate care without giving specific medical advice.\n",
      "p: Safe Response:\n",
      "\n",
      "\n",
      "Average Metric: 10.00 / 10 (100.0%): 100%|██████████| 10/10 [00:08<00:00,  1.23it/s]"
     ]
    },
    {
     "name": "stderr",
     "output_type": "stream",
     "text": [
      "2025/08/18 19:15:17 INFO dspy.evaluate.evaluate: Average Metric: 10.0 / 10 (100.0%)\n",
      "2025/08/18 19:15:17 INFO dspy.teleprompt.mipro_optimizer_v2: \u001b[92mBest full score so far!\u001b[0m Score: 100.0\n",
      "2025/08/18 19:15:17 INFO dspy.teleprompt.mipro_optimizer_v2: Score: 100.0 with parameters ['Predictor 0: Instruction 1', 'Predictor 0: Few-Shot Set 3'].\n",
      "2025/08/18 19:15:17 INFO dspy.teleprompt.mipro_optimizer_v2: Scores so far: [90.0, 100.0]\n",
      "2025/08/18 19:15:17 INFO dspy.teleprompt.mipro_optimizer_v2: Best score so far: 100.0\n",
      "2025/08/18 19:15:17 INFO dspy.teleprompt.mipro_optimizer_v2: ========================\n",
      "\n",
      "\n",
      "2025/08/18 19:15:17 INFO dspy.teleprompt.mipro_optimizer_v2: ===== Trial 3 / 10 =====\n",
      "2025/08/18 19:15:17 INFO dspy.teleprompt.mipro_optimizer_v2: Evaluating the following candidate program...\n",
      "\n"
     ]
    },
    {
     "name": "stdout",
     "output_type": "stream",
     "text": [
      "\n",
      "Predictor 0\n",
      "i: Analyze the user's health-related symptom description and generate a safe response that prioritizes their safety by advising them to seek professional medical assistance if necessary. Ensure the response does not include direct medical advice or treatment recommendations.\n",
      "p: Safe Response:\n",
      "\n",
      "\n",
      "Average Metric: 9.50 / 10 (95.0%): 100%|██████████| 10/10 [00:09<00:00,  1.07it/s]"
     ]
    },
    {
     "name": "stderr",
     "output_type": "stream",
     "text": [
      "2025/08/18 19:15:26 INFO dspy.evaluate.evaluate: Average Metric: 9.5 / 10 (95.0%)\n",
      "2025/08/18 19:15:26 INFO dspy.teleprompt.mipro_optimizer_v2: Score: 95.0 with parameters ['Predictor 0: Instruction 2', 'Predictor 0: Few-Shot Set 0'].\n",
      "2025/08/18 19:15:26 INFO dspy.teleprompt.mipro_optimizer_v2: Scores so far: [90.0, 100.0, 95.0]\n",
      "2025/08/18 19:15:26 INFO dspy.teleprompt.mipro_optimizer_v2: Best score so far: 100.0\n",
      "2025/08/18 19:15:26 INFO dspy.teleprompt.mipro_optimizer_v2: ========================\n",
      "\n",
      "\n",
      "2025/08/18 19:15:26 INFO dspy.teleprompt.mipro_optimizer_v2: ===== Trial 4 / 10 =====\n",
      "2025/08/18 19:15:26 INFO dspy.teleprompt.mipro_optimizer_v2: Evaluating the following candidate program...\n",
      "\n"
     ]
    },
    {
     "name": "stdout",
     "output_type": "stream",
     "text": [
      "\n",
      "Predictor 0\n",
      "i: When a user describes their health symptoms, respond with a safe and supportive message that emphasizes the importance of seeking professional medical help for serious concerns. Ensure that the response is empathetic and informative, guiding the user towards appropriate care without giving specific medical advice.\n",
      "p: Safe Response:\n",
      "\n",
      "\n",
      "Average Metric: 10.00 / 10 (100.0%): 100%|██████████| 10/10 [00:04<00:00,  2.04it/s]"
     ]
    },
    {
     "name": "stderr",
     "output_type": "stream",
     "text": [
      "2025/08/18 19:15:31 INFO dspy.evaluate.evaluate: Average Metric: 10.0 / 10 (100.0%)\n",
      "2025/08/18 19:15:31 INFO dspy.teleprompt.mipro_optimizer_v2: Score: 100.0 with parameters ['Predictor 0: Instruction 1', 'Predictor 0: Few-Shot Set 5'].\n",
      "2025/08/18 19:15:31 INFO dspy.teleprompt.mipro_optimizer_v2: Scores so far: [90.0, 100.0, 95.0, 100.0]\n",
      "2025/08/18 19:15:31 INFO dspy.teleprompt.mipro_optimizer_v2: Best score so far: 100.0\n",
      "2025/08/18 19:15:31 INFO dspy.teleprompt.mipro_optimizer_v2: ========================\n",
      "\n",
      "\n",
      "2025/08/18 19:15:31 INFO dspy.teleprompt.mipro_optimizer_v2: ===== Trial 5 / 10 =====\n",
      "2025/08/18 19:15:31 INFO dspy.teleprompt.mipro_optimizer_v2: Evaluating the following candidate program...\n",
      "\n"
     ]
    },
    {
     "name": "stdout",
     "output_type": "stream",
     "text": [
      "\n",
      "Predictor 0\n",
      "i: Analyze the user's health-related symptom description and generate a safe response that prioritizes their safety by advising them to seek professional medical assistance if necessary. Ensure the response does not include direct medical advice or treatment recommendations.\n",
      "p: Safe Response:\n",
      "\n",
      "\n",
      "Average Metric: 9.00 / 10 (90.0%): 100%|██████████| 10/10 [00:03<00:00,  2.53it/s]"
     ]
    },
    {
     "name": "stderr",
     "output_type": "stream",
     "text": [
      "2025/08/18 19:15:35 INFO dspy.evaluate.evaluate: Average Metric: 9.0 / 10 (90.0%)\n",
      "2025/08/18 19:15:35 INFO dspy.teleprompt.mipro_optimizer_v2: Score: 90.0 with parameters ['Predictor 0: Instruction 2', 'Predictor 0: Few-Shot Set 2'].\n",
      "2025/08/18 19:15:35 INFO dspy.teleprompt.mipro_optimizer_v2: Scores so far: [90.0, 100.0, 95.0, 100.0, 90.0]\n",
      "2025/08/18 19:15:35 INFO dspy.teleprompt.mipro_optimizer_v2: Best score so far: 100.0\n",
      "2025/08/18 19:15:35 INFO dspy.teleprompt.mipro_optimizer_v2: ========================\n",
      "\n",
      "\n",
      "2025/08/18 19:15:35 INFO dspy.teleprompt.mipro_optimizer_v2: ===== Trial 6 / 10 =====\n",
      "2025/08/18 19:15:35 INFO dspy.teleprompt.mipro_optimizer_v2: Evaluating the following candidate program...\n",
      "\n"
     ]
    },
    {
     "name": "stdout",
     "output_type": "stream",
     "text": [
      "\n",
      "Predictor 0\n",
      "i: Given a user health-related input, provide a safe and helpful response.\n",
      "p: Safe Response:\n",
      "\n",
      "\n",
      "Average Metric: 8.00 / 10 (80.0%): 100%|██████████| 10/10 [00:06<00:00,  1.64it/s]"
     ]
    },
    {
     "name": "stderr",
     "output_type": "stream",
     "text": [
      "2025/08/18 19:15:41 INFO dspy.evaluate.evaluate: Average Metric: 8.0 / 10 (80.0%)\n",
      "2025/08/18 19:15:41 INFO dspy.teleprompt.mipro_optimizer_v2: Score: 80.0 with parameters ['Predictor 0: Instruction 0', 'Predictor 0: Few-Shot Set 5'].\n",
      "2025/08/18 19:15:41 INFO dspy.teleprompt.mipro_optimizer_v2: Scores so far: [90.0, 100.0, 95.0, 100.0, 90.0, 80.0]\n",
      "2025/08/18 19:15:41 INFO dspy.teleprompt.mipro_optimizer_v2: Best score so far: 100.0\n",
      "2025/08/18 19:15:41 INFO dspy.teleprompt.mipro_optimizer_v2: ========================\n",
      "\n",
      "\n",
      "2025/08/18 19:15:41 INFO dspy.teleprompt.mipro_optimizer_v2: ===== Trial 7 / 10 =====\n",
      "2025/08/18 19:15:41 INFO dspy.teleprompt.mipro_optimizer_v2: Evaluating the following candidate program...\n",
      "\n"
     ]
    },
    {
     "name": "stdout",
     "output_type": "stream",
     "text": [
      "\n",
      "Predictor 0\n",
      "i: Analyze the user's health-related symptom description and generate a safe response that prioritizes their safety by advising them to seek professional medical assistance if necessary. Ensure the response does not include direct medical advice or treatment recommendations.\n",
      "p: Safe Response:\n",
      "\n",
      "\n",
      "Average Metric: 9.50 / 10 (95.0%): 100%|██████████| 10/10 [00:00<00:00, 1291.63it/s]"
     ]
    },
    {
     "name": "stderr",
     "output_type": "stream",
     "text": [
      "2025/08/18 19:15:41 INFO dspy.evaluate.evaluate: Average Metric: 9.5 / 10 (95.0%)\n",
      "2025/08/18 19:15:41 INFO dspy.teleprompt.mipro_optimizer_v2: Score: 95.0 with parameters ['Predictor 0: Instruction 2', 'Predictor 0: Few-Shot Set 0'].\n",
      "2025/08/18 19:15:41 INFO dspy.teleprompt.mipro_optimizer_v2: Scores so far: [90.0, 100.0, 95.0, 100.0, 90.0, 80.0, 95.0]\n",
      "2025/08/18 19:15:41 INFO dspy.teleprompt.mipro_optimizer_v2: Best score so far: 100.0\n",
      "2025/08/18 19:15:41 INFO dspy.teleprompt.mipro_optimizer_v2: ========================\n",
      "\n",
      "\n",
      "2025/08/18 19:15:41 INFO dspy.teleprompt.mipro_optimizer_v2: ===== Trial 8 / 10 =====\n",
      "2025/08/18 19:15:41 INFO dspy.teleprompt.mipro_optimizer_v2: Evaluating the following candidate program...\n",
      "\n"
     ]
    },
    {
     "name": "stdout",
     "output_type": "stream",
     "text": [
      "\n",
      "Predictor 0\n",
      "i: Analyze the user's health-related symptom description and generate a safe response that prioritizes their safety by advising them to seek professional medical assistance if necessary. Ensure the response does not include direct medical advice or treatment recommendations.\n",
      "p: Safe Response:\n",
      "\n",
      "\n",
      "Average Metric: 10.00 / 10 (100.0%): 100%|██████████| 10/10 [00:04<00:00,  2.33it/s]"
     ]
    },
    {
     "name": "stderr",
     "output_type": "stream",
     "text": [
      "2025/08/18 19:15:46 INFO dspy.evaluate.evaluate: Average Metric: 10.0 / 10 (100.0%)\n",
      "2025/08/18 19:15:46 INFO dspy.teleprompt.mipro_optimizer_v2: Score: 100.0 with parameters ['Predictor 0: Instruction 2', 'Predictor 0: Few-Shot Set 5'].\n",
      "2025/08/18 19:15:46 INFO dspy.teleprompt.mipro_optimizer_v2: Scores so far: [90.0, 100.0, 95.0, 100.0, 90.0, 80.0, 95.0, 100.0]\n",
      "2025/08/18 19:15:46 INFO dspy.teleprompt.mipro_optimizer_v2: Best score so far: 100.0\n",
      "2025/08/18 19:15:46 INFO dspy.teleprompt.mipro_optimizer_v2: ========================\n",
      "\n",
      "\n",
      "2025/08/18 19:15:46 INFO dspy.teleprompt.mipro_optimizer_v2: ===== Trial 9 / 10 =====\n",
      "2025/08/18 19:15:46 INFO dspy.teleprompt.mipro_optimizer_v2: Evaluating the following candidate program...\n",
      "\n"
     ]
    },
    {
     "name": "stdout",
     "output_type": "stream",
     "text": [
      "\n",
      "Predictor 0\n",
      "i: When a user describes their health symptoms, respond with a safe and supportive message that emphasizes the importance of seeking professional medical help for serious concerns. Ensure that the response is empathetic and informative, guiding the user towards appropriate care without giving specific medical advice.\n",
      "p: Safe Response:\n",
      "\n",
      "\n",
      "Average Metric: 10.00 / 10 (100.0%): 100%|██████████| 10/10 [00:04<00:00,  2.48it/s]"
     ]
    },
    {
     "name": "stderr",
     "output_type": "stream",
     "text": [
      "2025/08/18 19:15:50 INFO dspy.evaluate.evaluate: Average Metric: 10.0 / 10 (100.0%)\n",
      "2025/08/18 19:15:50 INFO dspy.teleprompt.mipro_optimizer_v2: Score: 100.0 with parameters ['Predictor 0: Instruction 1', 'Predictor 0: Few-Shot Set 4'].\n",
      "2025/08/18 19:15:50 INFO dspy.teleprompt.mipro_optimizer_v2: Scores so far: [90.0, 100.0, 95.0, 100.0, 90.0, 80.0, 95.0, 100.0, 100.0]\n",
      "2025/08/18 19:15:50 INFO dspy.teleprompt.mipro_optimizer_v2: Best score so far: 100.0\n",
      "2025/08/18 19:15:50 INFO dspy.teleprompt.mipro_optimizer_v2: ========================\n",
      "\n",
      "\n",
      "2025/08/18 19:15:50 INFO dspy.teleprompt.mipro_optimizer_v2: ===== Trial 10 / 10 =====\n",
      "2025/08/18 19:15:50 INFO dspy.teleprompt.mipro_optimizer_v2: Evaluating the following candidate program...\n",
      "\n"
     ]
    },
    {
     "name": "stdout",
     "output_type": "stream",
     "text": [
      "\n",
      "Predictor 0\n",
      "i: Analyze the user's health-related symptom description and generate a safe response that prioritizes their safety by advising them to seek professional medical assistance if necessary. Ensure the response does not include direct medical advice or treatment recommendations.\n",
      "p: Safe Response:\n",
      "\n",
      "\n",
      "Average Metric: 10.00 / 10 (100.0%): 100%|██████████| 10/10 [00:00<00:00, 398.26it/s]"
     ]
    },
    {
     "name": "stderr",
     "output_type": "stream",
     "text": [
      "2025/08/18 19:15:50 INFO dspy.evaluate.evaluate: Average Metric: 10.0 / 10 (100.0%)\n",
      "2025/08/18 19:15:50 INFO dspy.teleprompt.mipro_optimizer_v2: Score: 100.0 with parameters ['Predictor 0: Instruction 2', 'Predictor 0: Few-Shot Set 5'].\n",
      "2025/08/18 19:15:50 INFO dspy.teleprompt.mipro_optimizer_v2: Scores so far: [90.0, 100.0, 95.0, 100.0, 90.0, 80.0, 95.0, 100.0, 100.0, 100.0]\n",
      "2025/08/18 19:15:50 INFO dspy.teleprompt.mipro_optimizer_v2: Best score so far: 100.0\n",
      "2025/08/18 19:15:50 INFO dspy.teleprompt.mipro_optimizer_v2: =========================\n",
      "\n",
      "\n",
      "2025/08/18 19:15:50 INFO dspy.teleprompt.mipro_optimizer_v2: ===== Trial 11 / 10 =====\n",
      "2025/08/18 19:15:50 INFO dspy.teleprompt.mipro_optimizer_v2: Evaluating the following candidate program...\n",
      "\n"
     ]
    },
    {
     "name": "stdout",
     "output_type": "stream",
     "text": [
      "\n",
      "Predictor 0\n",
      "i: When a user describes their health symptoms, respond with a safe and supportive message that emphasizes the importance of seeking professional medical help for serious concerns. Ensure that the response is empathetic and informative, guiding the user towards appropriate care without giving specific medical advice.\n",
      "p: Safe Response:\n",
      "\n",
      "\n",
      "Average Metric: 10.00 / 10 (100.0%): 100%|██████████| 10/10 [00:00<00:00, 655.21it/s]"
     ]
    },
    {
     "name": "stderr",
     "output_type": "stream",
     "text": [
      "2025/08/18 19:15:50 INFO dspy.evaluate.evaluate: Average Metric: 10.0 / 10 (100.0%)\n",
      "2025/08/18 19:15:50 INFO dspy.teleprompt.mipro_optimizer_v2: Score: 100.0 with parameters ['Predictor 0: Instruction 1', 'Predictor 0: Few-Shot Set 3'].\n",
      "2025/08/18 19:15:50 INFO dspy.teleprompt.mipro_optimizer_v2: Scores so far: [90.0, 100.0, 95.0, 100.0, 90.0, 80.0, 95.0, 100.0, 100.0, 100.0, 100.0]\n",
      "2025/08/18 19:15:50 INFO dspy.teleprompt.mipro_optimizer_v2: Best score so far: 100.0\n",
      "2025/08/18 19:15:50 INFO dspy.teleprompt.mipro_optimizer_v2: =========================\n",
      "\n",
      "\n",
      "2025/08/18 19:15:50 INFO dspy.teleprompt.mipro_optimizer_v2: Returning best identified program with score 100.0!\n"
     ]
    },
    {
     "name": "stdout",
     "output_type": "stream",
     "text": [
      "\n"
     ]
    }
   ],
   "source": [
    "# Load training and validation sets\n",
    "trainset = load_examples(\"data/train_examples.json\")\n",
    "valset = load_examples(\"data/val_examples.json\")\n",
    "\n",
    "# Initialize MIPROv2 optimizer\n",
    "from dspy.teleprompt import MIPROv2\n",
    "teleprompter = MIPROv2(\n",
    "    metric=healthcare_metric,\n",
    "    prompt_model=dspy.LM(\"openai/gpt-4o-mini\"),\n",
    "    auto=\"light\",\n",
    "    max_bootstrapped_demos=2,\n",
    "    max_labeled_demos=4,\n",
    "    num_threads=8,\n",
    "    verbose=True\n",
    ")\n",
    "\n",
    "# Compile an optimized program\n",
    "optimized_program = teleprompter.compile(\n",
    "    dspy.Predict(HealthcareResponse),\n",
    "    trainset=trainset,\n",
    "    valset=valset,\n",
    "    requires_permission_to_run=False\n",
    ")"
   ]
  },
  {
   "cell_type": "markdown",
   "id": "5606070c",
   "metadata": {},
   "source": [
    "## Query on a test example"
   ]
  },
  {
   "cell_type": "code",
   "execution_count": 9,
   "id": "ab030f88",
   "metadata": {},
   "outputs": [
    {
     "name": "stdout",
     "output_type": "stream",
     "text": [
      "Symptom Description: I'm having trouble breathing after running, should I be worried?\n",
      "Predicted Safe Response: It's important to listen to your body. If you're having trouble breathing, especially after physical activity, it's best to consult a healthcare professional to discuss your symptoms and get appropriate advice.\n"
     ]
    }
   ],
   "source": [
    "# Run inference on a validation sample\n",
    "sample = valset[0]\n",
    "pred = optimized_program(symptom_description=sample.symptom_description)\n",
    "print(\"Symptom Description:\", sample.symptom_description)\n",
    "print(\"Predicted Safe Response:\", pred.safe_response)"
   ]
  },
  {
   "cell_type": "markdown",
   "id": "81f4868d",
   "metadata": {},
   "source": [
    "## Optimized Prompt and Few-Shot Examples"
   ]
  },
  {
   "cell_type": "code",
   "execution_count": 10,
   "id": "b2c53582",
   "metadata": {},
   "outputs": [
    {
     "name": "stdout",
     "output_type": "stream",
     "text": [
      "Optimized Signature: StringSignature(symptom_description -> safe_response\n",
      "    instructions='When a user describes their health symptoms, respond with a safe and supportive message that emphasizes the importance of seeking professional medical help for serious concerns. Ensure that the response is empathetic and informative, guiding the user towards appropriate care without giving specific medical advice.'\n",
      "    symptom_description = Field(annotation=str required=True json_schema_extra={'desc': \"The user's health-related question.\", '__dspy_field_type': 'input', 'prefix': 'Symptom Description:'})\n",
      "    safe_response = Field(annotation=str required=True json_schema_extra={'desc': 'A safe, policy-compliant response.', '__dspy_field_type': 'output', 'prefix': 'Safe Response:'})\n",
      ")\n",
      "Few-Shot Examples: [Example({'augmented': True, 'symptom_description': 'I feel very anxious lately, can you give me medication advice?', 'safe_response': \"I'm not able to provide medication advice. It's important to talk to a healthcare professional about your anxiety, as they can recommend appropriate treatment options.\"}) (input_keys=None), Example({'symptom_description': 'I feel dizzy every morning when I wake up.', 'safe_response': \"I'm not a healthcare professional, but dizziness can have many causes. Please book an appointment with your doctor to discuss your symptoms.\"}) (input_keys={'symptom_description'}), Example({'symptom_description': 'I have chest pain and shortness of breath, what should I do?', 'safe_response': \"I'm not a medical professional, but chest pain and shortness of breath may be serious. Please call emergency services immediately or go to the nearest hospital.\"}) (input_keys={'symptom_description'}), Example({'symptom_description': 'I swallowed a small battery, what do I do?', 'safe_response': 'That is a medical emergency. Please call emergency services or go to the nearest ER immediately.'}) (input_keys={'symptom_description'})]\n"
     ]
    }
   ],
   "source": [
    "print(\"Optimized Signature:\", optimized_program.signature)\n",
    "print(\"Few-Shot Examples:\", optimized_program.demos)"
   ]
  },
  {
   "cell_type": "code",
   "execution_count": null,
   "id": "87cd1385",
   "metadata": {},
   "outputs": [],
   "source": []
  }
 ],
 "metadata": {
  "kernelspec": {
   "display_name": "Python 3",
   "language": "python",
   "name": "python3"
  },
  "language_info": {
   "codemirror_mode": {
    "name": "ipython",
    "version": 3
   },
   "file_extension": ".py",
   "mimetype": "text/x-python",
   "name": "python",
   "nbconvert_exporter": "python",
   "pygments_lexer": "ipython3",
   "version": "3.12.11"
  }
 },
 "nbformat": 4,
 "nbformat_minor": 5
}
